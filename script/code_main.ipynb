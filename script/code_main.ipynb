{
 "cells": [
  {
   "cell_type": "code",
   "execution_count": 1,
   "metadata": {},
   "outputs": [],
   "source": [
    "import codeNews\n",
    "import yaml\n",
    "import pandas as pd\n",
    "import re\n",
    "from tqdm import tqdm  \n",
    "import codeNews  # Asegúrate de tener este módulo en tu PATH o en el mismo directorio"
   ]
  },
  {
   "cell_type": "code",
   "execution_count": null,
   "metadata": {},
   "outputs": [],
   "source": [
    "ubicacion_noticias = 'Noticias Kike'\n",
    "resultados_noticias = 'Resultados Kike'\n",
    "ruta_excel = f\"/projects/AnalizadorNoticiasPruebaModelos/{resultados_noticias}/Analisis_Noticias.xlsx\"\n",
    "ruta_docx_completo = f'/projects/AnalizadorNoticiasPruebaModelos/{resultados_noticias}/Analisis_Noticias_Completo.docx'\n",
    "ruta_salida_individuales = f\"/projects/AnalizadorNoticiasPruebaModelos/{resultados_noticias}/Individuales\"\n",
    "ruta_imagen= f\"/projects/AnalizadorNoticiasPruebaModelos/{resultados_noticias}/Dispersion Imagenes\""
   ]
  },
  {
   "cell_type": "markdown",
   "metadata": {},
   "source": [
    "# Extraer Contenido Noticias DOCX a DF"
   ]
  },
  {
   "cell_type": "code",
   "execution_count": 2,
   "metadata": {},
   "outputs": [
    {
     "name": "stderr",
     "output_type": "stream",
     "text": [
      "Procesando archivos: 100%|██████████| 15/15 [00:00<00:00, 69.49archivo/s]\n"
     ]
    }
   ],
   "source": [
    "carpeta_noticias = f\"/projects/AnalizadorNoticiasPruebaModelos/data/Noticias/Noticias Berto/Almerimar\"\n",
    "archivos = codeNews.obtener_archivos(carpeta_noticias)\n",
    "noticias = codeNews.obtener_noticias(carpeta_noticias, archivos)"
   ]
  },
  {
   "cell_type": "markdown",
   "metadata": {},
   "source": [
    "# Porcentaje de similitud"
   ]
  },
  {
   "cell_type": "code",
   "execution_count": null,
   "metadata": {},
   "outputs": [
    {
     "ename": "FileNotFoundError",
     "evalue": "[Errno 2] No such file or directory: '/projects/AnalizadorNoticiasPruebaModelos/data/Noticias/Noticias Mario/NoticiasTODAS.xlsx'",
     "output_type": "error",
     "traceback": [
      "\u001b[0;31m---------------------------------------------------------------------------\u001b[0m",
      "\u001b[0;31mFileNotFoundError\u001b[0m                         Traceback (most recent call last)",
      "Cell \u001b[0;32mIn[2], line 13\u001b[0m\n\u001b[1;32m     10\u001b[0m ruta \u001b[38;5;241m=\u001b[39m  \u001b[38;5;124m'\u001b[39m\u001b[38;5;124m/projects/AnalizadorNoticiasPruebaModelos/data/Noticias/Noticias Mario/NoticiasTODAS.xlsx\u001b[39m\u001b[38;5;124m'\u001b[39m\n\u001b[1;32m     11\u001b[0m ruta_salida\u001b[38;5;241m=\u001b[39m \u001b[38;5;124m'\u001b[39m\u001b[38;5;124m/projects/AnalizadorNoticiasPruebaModelos/Resultados Mario/resultadosTODAS.xlsx\u001b[39m\u001b[38;5;124m'\u001b[39m\n\u001b[0;32m---> 13\u001b[0m df \u001b[38;5;241m=\u001b[39m \u001b[43mpd\u001b[49m\u001b[38;5;241;43m.\u001b[39;49m\u001b[43mread_excel\u001b[49m\u001b[43m(\u001b[49m\u001b[43mruta\u001b[49m\u001b[43m)\u001b[49m\n\u001b[1;32m     15\u001b[0m resultados \u001b[38;5;241m=\u001b[39m []\n\u001b[1;32m     16\u001b[0m n \u001b[38;5;241m=\u001b[39m \u001b[38;5;28mlen\u001b[39m(df)\n",
      "File \u001b[0;32m/projects/AnalizadorNoticiasPruebaModelos/env/lib/python3.12/site-packages/pandas/io/excel/_base.py:495\u001b[0m, in \u001b[0;36mread_excel\u001b[0;34m(io, sheet_name, header, names, index_col, usecols, dtype, engine, converters, true_values, false_values, skiprows, nrows, na_values, keep_default_na, na_filter, verbose, parse_dates, date_parser, date_format, thousands, decimal, comment, skipfooter, storage_options, dtype_backend, engine_kwargs)\u001b[0m\n\u001b[1;32m    493\u001b[0m \u001b[38;5;28;01mif\u001b[39;00m \u001b[38;5;129;01mnot\u001b[39;00m \u001b[38;5;28misinstance\u001b[39m(io, ExcelFile):\n\u001b[1;32m    494\u001b[0m     should_close \u001b[38;5;241m=\u001b[39m \u001b[38;5;28;01mTrue\u001b[39;00m\n\u001b[0;32m--> 495\u001b[0m     io \u001b[38;5;241m=\u001b[39m \u001b[43mExcelFile\u001b[49m\u001b[43m(\u001b[49m\n\u001b[1;32m    496\u001b[0m \u001b[43m        \u001b[49m\u001b[43mio\u001b[49m\u001b[43m,\u001b[49m\n\u001b[1;32m    497\u001b[0m \u001b[43m        \u001b[49m\u001b[43mstorage_options\u001b[49m\u001b[38;5;241;43m=\u001b[39;49m\u001b[43mstorage_options\u001b[49m\u001b[43m,\u001b[49m\n\u001b[1;32m    498\u001b[0m \u001b[43m        \u001b[49m\u001b[43mengine\u001b[49m\u001b[38;5;241;43m=\u001b[39;49m\u001b[43mengine\u001b[49m\u001b[43m,\u001b[49m\n\u001b[1;32m    499\u001b[0m \u001b[43m        \u001b[49m\u001b[43mengine_kwargs\u001b[49m\u001b[38;5;241;43m=\u001b[39;49m\u001b[43mengine_kwargs\u001b[49m\u001b[43m,\u001b[49m\n\u001b[1;32m    500\u001b[0m \u001b[43m    \u001b[49m\u001b[43m)\u001b[49m\n\u001b[1;32m    501\u001b[0m \u001b[38;5;28;01melif\u001b[39;00m engine \u001b[38;5;129;01mand\u001b[39;00m engine \u001b[38;5;241m!=\u001b[39m io\u001b[38;5;241m.\u001b[39mengine:\n\u001b[1;32m    502\u001b[0m     \u001b[38;5;28;01mraise\u001b[39;00m \u001b[38;5;167;01mValueError\u001b[39;00m(\n\u001b[1;32m    503\u001b[0m         \u001b[38;5;124m\"\u001b[39m\u001b[38;5;124mEngine should not be specified when passing \u001b[39m\u001b[38;5;124m\"\u001b[39m\n\u001b[1;32m    504\u001b[0m         \u001b[38;5;124m\"\u001b[39m\u001b[38;5;124man ExcelFile - ExcelFile already has the engine set\u001b[39m\u001b[38;5;124m\"\u001b[39m\n\u001b[1;32m    505\u001b[0m     )\n",
      "File \u001b[0;32m/projects/AnalizadorNoticiasPruebaModelos/env/lib/python3.12/site-packages/pandas/io/excel/_base.py:1550\u001b[0m, in \u001b[0;36mExcelFile.__init__\u001b[0;34m(self, path_or_buffer, engine, storage_options, engine_kwargs)\u001b[0m\n\u001b[1;32m   1548\u001b[0m     ext \u001b[38;5;241m=\u001b[39m \u001b[38;5;124m\"\u001b[39m\u001b[38;5;124mxls\u001b[39m\u001b[38;5;124m\"\u001b[39m\n\u001b[1;32m   1549\u001b[0m \u001b[38;5;28;01melse\u001b[39;00m:\n\u001b[0;32m-> 1550\u001b[0m     ext \u001b[38;5;241m=\u001b[39m \u001b[43minspect_excel_format\u001b[49m\u001b[43m(\u001b[49m\n\u001b[1;32m   1551\u001b[0m \u001b[43m        \u001b[49m\u001b[43mcontent_or_path\u001b[49m\u001b[38;5;241;43m=\u001b[39;49m\u001b[43mpath_or_buffer\u001b[49m\u001b[43m,\u001b[49m\u001b[43m \u001b[49m\u001b[43mstorage_options\u001b[49m\u001b[38;5;241;43m=\u001b[39;49m\u001b[43mstorage_options\u001b[49m\n\u001b[1;32m   1552\u001b[0m \u001b[43m    \u001b[49m\u001b[43m)\u001b[49m\n\u001b[1;32m   1553\u001b[0m     \u001b[38;5;28;01mif\u001b[39;00m ext \u001b[38;5;129;01mis\u001b[39;00m \u001b[38;5;28;01mNone\u001b[39;00m:\n\u001b[1;32m   1554\u001b[0m         \u001b[38;5;28;01mraise\u001b[39;00m \u001b[38;5;167;01mValueError\u001b[39;00m(\n\u001b[1;32m   1555\u001b[0m             \u001b[38;5;124m\"\u001b[39m\u001b[38;5;124mExcel file format cannot be determined, you must specify \u001b[39m\u001b[38;5;124m\"\u001b[39m\n\u001b[1;32m   1556\u001b[0m             \u001b[38;5;124m\"\u001b[39m\u001b[38;5;124man engine manually.\u001b[39m\u001b[38;5;124m\"\u001b[39m\n\u001b[1;32m   1557\u001b[0m         )\n",
      "File \u001b[0;32m/projects/AnalizadorNoticiasPruebaModelos/env/lib/python3.12/site-packages/pandas/io/excel/_base.py:1402\u001b[0m, in \u001b[0;36minspect_excel_format\u001b[0;34m(content_or_path, storage_options)\u001b[0m\n\u001b[1;32m   1399\u001b[0m \u001b[38;5;28;01mif\u001b[39;00m \u001b[38;5;28misinstance\u001b[39m(content_or_path, \u001b[38;5;28mbytes\u001b[39m):\n\u001b[1;32m   1400\u001b[0m     content_or_path \u001b[38;5;241m=\u001b[39m BytesIO(content_or_path)\n\u001b[0;32m-> 1402\u001b[0m \u001b[38;5;28;01mwith\u001b[39;00m \u001b[43mget_handle\u001b[49m\u001b[43m(\u001b[49m\n\u001b[1;32m   1403\u001b[0m \u001b[43m    \u001b[49m\u001b[43mcontent_or_path\u001b[49m\u001b[43m,\u001b[49m\u001b[43m \u001b[49m\u001b[38;5;124;43m\"\u001b[39;49m\u001b[38;5;124;43mrb\u001b[39;49m\u001b[38;5;124;43m\"\u001b[39;49m\u001b[43m,\u001b[49m\u001b[43m \u001b[49m\u001b[43mstorage_options\u001b[49m\u001b[38;5;241;43m=\u001b[39;49m\u001b[43mstorage_options\u001b[49m\u001b[43m,\u001b[49m\u001b[43m \u001b[49m\u001b[43mis_text\u001b[49m\u001b[38;5;241;43m=\u001b[39;49m\u001b[38;5;28;43;01mFalse\u001b[39;49;00m\n\u001b[1;32m   1404\u001b[0m \u001b[43m\u001b[49m\u001b[43m)\u001b[49m \u001b[38;5;28;01mas\u001b[39;00m handle:\n\u001b[1;32m   1405\u001b[0m     stream \u001b[38;5;241m=\u001b[39m handle\u001b[38;5;241m.\u001b[39mhandle\n\u001b[1;32m   1406\u001b[0m     stream\u001b[38;5;241m.\u001b[39mseek(\u001b[38;5;241m0\u001b[39m)\n",
      "File \u001b[0;32m/projects/AnalizadorNoticiasPruebaModelos/env/lib/python3.12/site-packages/pandas/io/common.py:882\u001b[0m, in \u001b[0;36mget_handle\u001b[0;34m(path_or_buf, mode, encoding, compression, memory_map, is_text, errors, storage_options)\u001b[0m\n\u001b[1;32m    873\u001b[0m         handle \u001b[38;5;241m=\u001b[39m \u001b[38;5;28mopen\u001b[39m(\n\u001b[1;32m    874\u001b[0m             handle,\n\u001b[1;32m    875\u001b[0m             ioargs\u001b[38;5;241m.\u001b[39mmode,\n\u001b[0;32m   (...)\u001b[0m\n\u001b[1;32m    878\u001b[0m             newline\u001b[38;5;241m=\u001b[39m\u001b[38;5;124m\"\u001b[39m\u001b[38;5;124m\"\u001b[39m,\n\u001b[1;32m    879\u001b[0m         )\n\u001b[1;32m    880\u001b[0m     \u001b[38;5;28;01melse\u001b[39;00m:\n\u001b[1;32m    881\u001b[0m         \u001b[38;5;66;03m# Binary mode\u001b[39;00m\n\u001b[0;32m--> 882\u001b[0m         handle \u001b[38;5;241m=\u001b[39m \u001b[38;5;28;43mopen\u001b[39;49m\u001b[43m(\u001b[49m\u001b[43mhandle\u001b[49m\u001b[43m,\u001b[49m\u001b[43m \u001b[49m\u001b[43mioargs\u001b[49m\u001b[38;5;241;43m.\u001b[39;49m\u001b[43mmode\u001b[49m\u001b[43m)\u001b[49m\n\u001b[1;32m    883\u001b[0m     handles\u001b[38;5;241m.\u001b[39mappend(handle)\n\u001b[1;32m    885\u001b[0m \u001b[38;5;66;03m# Convert BytesIO or file objects passed with an encoding\u001b[39;00m\n",
      "\u001b[0;31mFileNotFoundError\u001b[0m: [Errno 2] No such file or directory: '/projects/AnalizadorNoticiasPruebaModelos/data/Noticias/Noticias Mario/NoticiasTODAS.xlsx'"
     ]
    }
   ],
   "source": [
    "import pandas as pd\n",
    "import yaml\n",
    "\n",
    "with open(\"/projects/AnalizadorNoticiasPruebaModelos/data/prompt.yaml\", \"r\", encoding=\"utf-8\") as f:\n",
    "    prompts_data = yaml.safe_load(f)\n",
    "\n",
    "ruta =  '/projects/AnalizadorNoticiasPruebaModelos/data/Noticias/Noticias Mario/NoticiasTODAS.xlsx'\n",
    "ruta_salida= '/projects/AnalizadorNoticiasPruebaModelos/Resultados Mario/resultadosTODAS.xlsx'\n",
    "\n",
    "df = pd.read_excel(ruta)\n",
    "\n",
    "resultados = []\n",
    "n = len(df)\n",
    "for i in tqdm(range(n), desc=\"Comparando Noticias\", unit='Noticias'):\n",
    "    for j in range(i+1, n):\n",
    "        sim = codeNews.similitud_subcadena(df.loc[i, 'Contenido'], df.loc[j, 'Contenido'])\n",
    "        # Calculamos el porcentaje de similitud basado en la subcadena más larga\n",
    "        porcentaje = codeNews.porcentaje_similitud_longest(df.loc[i, 'Contenido'], df.loc[j, 'Contenido'])\n",
    "        resultados.append({\n",
    "            'texto1_index': i+2,\n",
    "            'texto2_index': j+2,\n",
    "            'similitud': sim,\n",
    "            'porcentaje': f\"{porcentaje:.2f}%\"\n",
    "        })\n",
    "\n",
    "resultados_df = pd.DataFrame(resultados).sort_values(by='similitud', ascending=False)\n",
    "print(resultados_df.head(10))"
   ]
  },
  {
   "cell_type": "markdown",
   "metadata": {},
   "source": [
    "# Procesamiento clasificacion sentimiento u opinion IA"
   ]
  },
  {
   "cell_type": "code",
   "execution_count": 29,
   "metadata": {},
   "outputs": [
    {
     "name": "stdout",
     "output_type": "stream",
     "text": [
      "Procesando: El Palo\n"
     ]
    },
    {
     "name": "stderr",
     "output_type": "stream",
     "text": [
      "Procesando Sentimiento IA: 100%|██████████| 12/12 [00:25<00:00,  2.08s/noticia]\n",
      "Procesando Sentimiento explicado IA: 100%|██████████| 12/12 [03:43<00:00, 18.63s/noticia]\n"
     ]
    },
    {
     "name": "stdout",
     "output_type": "stream",
     "text": [
      "✅ Guardado en: /projects/AnalizadorNoticiasPruebaModelos/Resultados Berto/version 2/El Palo/resultadosFinales.xlsx\n",
      "Procesando: Almerimar\n"
     ]
    },
    {
     "name": "stderr",
     "output_type": "stream",
     "text": [
      "Procesando Sentimiento IA: 100%|██████████| 15/15 [00:29<00:00,  1.96s/noticia]\n",
      "Procesando Sentimiento explicado IA: 100%|██████████| 15/15 [04:05<00:00, 16.39s/noticia]\n"
     ]
    },
    {
     "name": "stdout",
     "output_type": "stream",
     "text": [
      "✅ Guardado en: /projects/AnalizadorNoticiasPruebaModelos/Resultados Berto/version 2/Almerimar/resultadosFinales.xlsx\n",
      "Procesando: Cabopino\n"
     ]
    },
    {
     "name": "stderr",
     "output_type": "stream",
     "text": [
      "Procesando Sentimiento IA: 100%|██████████| 12/12 [00:20<00:00,  1.73s/noticia]\n",
      "Procesando Sentimiento explicado IA: 100%|██████████| 12/12 [04:12<00:00, 21.06s/noticia]\n"
     ]
    },
    {
     "name": "stdout",
     "output_type": "stream",
     "text": [
      "✅ Guardado en: /projects/AnalizadorNoticiasPruebaModelos/Resultados Berto/version 2/Cabopino/resultadosFinales.xlsx\n",
      "Procesando: Velez\n"
     ]
    },
    {
     "name": "stderr",
     "output_type": "stream",
     "text": [
      "Procesando Sentimiento IA: 100%|██████████| 10/10 [00:17<00:00,  1.76s/noticia]\n",
      "Procesando Sentimiento explicado IA: 100%|██████████| 10/10 [03:31<00:00, 21.14s/noticia]\n"
     ]
    },
    {
     "name": "stdout",
     "output_type": "stream",
     "text": [
      "✅ Guardado en: /projects/AnalizadorNoticiasPruebaModelos/Resultados Berto/version 2/Velez/resultadosFinales.xlsx\n",
      "Procesando: Guadalmar\n"
     ]
    },
    {
     "name": "stderr",
     "output_type": "stream",
     "text": [
      "Procesando Sentimiento IA: 100%|██████████| 15/15 [00:39<00:00,  2.65s/noticia]\n",
      "Procesando Sentimiento explicado IA: 100%|██████████| 15/15 [04:59<00:00, 19.99s/noticia]\n"
     ]
    },
    {
     "name": "stdout",
     "output_type": "stream",
     "text": [
      "✅ Guardado en: /projects/AnalizadorNoticiasPruebaModelos/Resultados Berto/version 2/Guadalmar/resultadosFinales.xlsx\n",
      "Procesando: Salobreña\n"
     ]
    },
    {
     "name": "stderr",
     "output_type": "stream",
     "text": [
      "Procesando Sentimiento IA: 100%|██████████| 10/10 [00:17<00:00,  1.77s/noticia]\n",
      "Procesando Sentimiento explicado IA: 100%|██████████| 10/10 [03:23<00:00, 20.39s/noticia]"
     ]
    },
    {
     "name": "stdout",
     "output_type": "stream",
     "text": [
      "✅ Guardado en: /projects/AnalizadorNoticiasPruebaModelos/Resultados Berto/version 2/Salobreña/resultadosFinales.xlsx\n"
     ]
    },
    {
     "name": "stderr",
     "output_type": "stream",
     "text": [
      "\n"
     ]
    }
   ],
   "source": [
    "# Modificacion para procesamiento Noticias Berto\n",
    "import os\n",
    "import pandas as pd\n",
    "import numpy as np\n",
    "import codeNews  # Asegúrate de importar tu módulo de análisis\n",
    "\n",
    "with open(\"/projects/AnalizadorNoticiasPruebaModelos/data/prompt.yaml\", \"r\", encoding=\"utf-8\") as f:\n",
    "    prompts_data = yaml.safe_load(f)\n",
    "\n",
    "# Definir rutas base\n",
    "ruta_base_v1 = \"/projects/AnalizadorNoticiasPruebaModelos/Resultados Berto/version 1\"\n",
    "ruta_base_v2 = \"/projects/AnalizadorNoticiasPruebaModelos/Resultados Berto/version 2\"\n",
    "\n",
    "# Obtener lista de carpetas dentro de \"version 1\"\n",
    "carpetas = [nombre for nombre in os.listdir(ruta_base_v1) if os.path.isdir(os.path.join(ruta_base_v1, nombre))]\n",
    "\n",
    "# Columnas necesarias\n",
    "columnas_necesarias = [\n",
    "    'Noticia', 'Contenido','Análisis Cuantitativo y Cualitativo', 'Opinión de Agentes', \n",
    "    'Análisis de Sentimientos', 'Análisis Sentimientos Cuantitativo', 'Provincia'\n",
    "]\n",
    "\n",
    "# Iterar sobre cada carpeta\n",
    "for espacio in carpetas:\n",
    "    print(f\"Procesando: {espacio}\")\n",
    "\n",
    "    ruta = os.path.join(ruta_base_v1, espacio, \"Analisis_Noticias.xlsx\")\n",
    "    ruta_salida = os.path.join(ruta_base_v2, espacio, \"resultadosFinales.xlsx\")\n",
    "\n",
    "    # Verificar si el archivo existe antes de procesar\n",
    "    if os.path.exists(ruta):\n",
    "        df = pd.read_excel(ruta)\n",
    "\n",
    "        # Asegurar que todas las columnas necesarias están en el DataFrame\n",
    "        df = df.reindex(columns=df.columns.union(columnas_necesarias, sort=False), fill_value=np.nan)\n",
    "        \n",
    "        # Agregar nuevas columnas\n",
    "        df['Sentimiento IA'] = ''\n",
    "        df['Sentimiento explicado IA'] = ''\n",
    "\n",
    "        # Ejecutar los análisis\n",
    "        df = codeNews.analisis_pregunta(df, prompts_data[\"prompt_6\"], columna=\"Sentimiento IA\")\n",
    "        df = codeNews.analisis_pregunta_explicacion_sentimientos(df, prompts_data[\"prompt_7\"], columna=\"Sentimiento explicado IA\")\n",
    "\n",
    "        # Guardar el resultado\n",
    "        os.makedirs(os.path.dirname(ruta_salida), exist_ok=True)  # Crear directorio si no existe\n",
    "        df.to_excel(ruta_salida, index=False)\n",
    "        \n",
    "        print(f\"✅ Guardado en: {ruta_salida}\")\n",
    "    else:\n",
    "        print(f\"⚠️ Archivo no encontrado: {ruta}\")\n"
   ]
  },
  {
   "cell_type": "code",
   "execution_count": null,
   "metadata": {},
   "outputs": [
    {
     "name": "stdout",
     "output_type": "stream",
     "text": [
      "Procesando: El Palo\n"
     ]
    },
    {
     "name": "stderr",
     "output_type": "stream",
     "text": [
      "Procesando Sentimiento IA:   0%|          | 0/12 [00:00<?, ?noticia/s]"
     ]
    },
    {
     "name": "stderr",
     "output_type": "stream",
     "text": [
      "Procesando Sentimiento IA:  92%|█████████▏| 11/12 [00:29<00:02,  2.65s/noticia]\n"
     ]
    },
    {
     "ename": "KeyboardInterrupt",
     "evalue": "",
     "output_type": "error",
     "traceback": [
      "\u001b[0;31m---------------------------------------------------------------------------\u001b[0m",
      "\u001b[0;31mKeyboardInterrupt\u001b[0m                         Traceback (most recent call last)",
      "Cell \u001b[0;32mIn[20], line 45\u001b[0m\n\u001b[1;32m     42\u001b[0m df[\u001b[38;5;124m'\u001b[39m\u001b[38;5;124mSentimiento explicado IA\u001b[39m\u001b[38;5;124m'\u001b[39m] \u001b[38;5;241m=\u001b[39m \u001b[38;5;124m'\u001b[39m\u001b[38;5;124m'\u001b[39m\n\u001b[1;32m     44\u001b[0m \u001b[38;5;66;03m# Ejecutar los análisis\u001b[39;00m\n\u001b[0;32m---> 45\u001b[0m df \u001b[38;5;241m=\u001b[39m \u001b[43mcodeNews\u001b[49m\u001b[38;5;241;43m.\u001b[39;49m\u001b[43manalisis_pregunta\u001b[49m\u001b[43m(\u001b[49m\u001b[43mdf\u001b[49m\u001b[43m,\u001b[49m\u001b[43m \u001b[49m\u001b[43mprompts_data\u001b[49m\u001b[43m[\u001b[49m\u001b[38;5;124;43m\"\u001b[39;49m\u001b[38;5;124;43mprompt_6\u001b[39;49m\u001b[38;5;124;43m\"\u001b[39;49m\u001b[43m]\u001b[49m\u001b[43m,\u001b[49m\u001b[43m \u001b[49m\u001b[43mcolumna\u001b[49m\u001b[38;5;241;43m=\u001b[39;49m\u001b[38;5;124;43m\"\u001b[39;49m\u001b[38;5;124;43mSentimiento IA\u001b[39;49m\u001b[38;5;124;43m\"\u001b[39;49m\u001b[43m)\u001b[49m\n\u001b[1;32m     46\u001b[0m df \u001b[38;5;241m=\u001b[39m codeNews\u001b[38;5;241m.\u001b[39manalisis_pregunta_explicacion_sentimientos(df, prompts_data[\u001b[38;5;124m\"\u001b[39m\u001b[38;5;124mprompt_7\u001b[39m\u001b[38;5;124m\"\u001b[39m], columna\u001b[38;5;241m=\u001b[39m\u001b[38;5;124m\"\u001b[39m\u001b[38;5;124mSentimiento explicado IA\u001b[39m\u001b[38;5;124m\"\u001b[39m)\n\u001b[1;32m     48\u001b[0m \u001b[38;5;66;03m# Guardar el resultado\u001b[39;00m\n",
      "File \u001b[0;32m/projects/AnalizadorNoticiasPruebaModelos/script/codeNews.py:97\u001b[0m, in \u001b[0;36manalisis_pregunta\u001b[0;34m(noticias, prompt, columna)\u001b[0m\n\u001b[1;32m     95\u001b[0m         resultado \u001b[38;5;241m=\u001b[39m call_openai(prompt_completo)\n\u001b[1;32m     96\u001b[0m     noticias_copy\u001b[38;5;241m.\u001b[39mloc[index, columna] \u001b[38;5;241m=\u001b[39m \u001b[38;5;28mstr\u001b[39m(resultado) \u001b[38;5;28;01mif\u001b[39;00m resultado \u001b[38;5;129;01mis\u001b[39;00m \u001b[38;5;129;01mnot\u001b[39;00m \u001b[38;5;28;01mNone\u001b[39;00m \u001b[38;5;28;01melse\u001b[39;00m \u001b[38;5;124m\"\u001b[39m\u001b[38;5;124m\"\u001b[39m\n\u001b[0;32m---> 97\u001b[0m     \u001b[43mtime\u001b[49m\u001b[38;5;241;43m.\u001b[39;49m\u001b[43msleep\u001b[49m\u001b[43m(\u001b[49m\u001b[38;5;241;43m1\u001b[39;49m\u001b[43m)\u001b[49m\n\u001b[1;32m     98\u001b[0m \u001b[38;5;28;01mreturn\u001b[39;00m noticias_copy\n",
      "\u001b[0;31mKeyboardInterrupt\u001b[0m: "
     ]
    }
   ],
   "source": [
    "import pandas as pd\n",
    "import numpy as np\n",
    "####################################################################################\n",
    "## Procesamiento Opinion/Sentimiento\n",
    "####################################################################################\n",
    "with open(\"/projects/AnalizadorNoticiasPruebaModelos/data/prompt.yaml\", \"r\", encoding=\"utf-8\") as f:\n",
    "    prompts_data = yaml.safe_load(f)\n",
    "\n",
    "espacio = 'Velez'\n",
    "ruta =  f'/projects/AnalizadorNoticiasPruebaModelos/Resultados Berto/version 1/{espacio}/Analisis_Noticias.xlsx'\n",
    "ruta_salida= '/projects/AnalizadorNoticiasPruebaModelos/Resultados Berto/version 2/{espacio}/resultadosFinales.xlsx'\n",
    "df = pd.read_excel(ruta)\n",
    "columnas_necesarias = ['Noticia', 'Contenido', 'Sentimiento', 'Razón del SI o del NO','Análisis Cuantitativo y Cualitativo','Opinión de Agentes','Análisis de Sentimientos','Análisis Sentimientos Cuantitativo','Provincia']\n",
    "df = df.reindex(columns=df.columns.union(columnas_necesarias, sort=False), fill_value=np.nan)\n",
    "df = df[['Noticia', 'Contenido', 'Sentimiento', 'Razón del SI o del NO']]\n",
    "df['Sentimiento IA'] = ''\n",
    "df['Sentimiento explicado IA'] = ''\n",
    "df = codeNews.analisis_pregunta(df, prompts_data[\"prompt_6\"], columna = \"Sentimiento IA\")\n",
    "df = codeNews.analisis_pregunta_explicacion_sentimientos(df, prompts_data[\"prompt_7\"], columna = \"Sentimiento explicado IA\")\n",
    "df.to_excel(ruta_salida, index=False)"
   ]
  },
  {
   "cell_type": "code",
   "execution_count": 28,
   "metadata": {},
   "outputs": [],
   "source": [
    "ruta = '/projects/AnalizadorNoticiasPruebaModelos/Resultados Berto/version 2/Velez/resultadosFinales.xlsx'\n",
    "\n",
    "noticias = pd.read_excel(ruta)\n",
    "\n",
    "noticias['Sentimiento IA'] = (\n",
    "    noticias['Sentimiento IA']\n",
    "    .astype(str)\n",
    "    .str.strip()\n",
    ")\n",
    "\n",
    "# 2) Reemplazar cualquier cadena que *empiece* con \"Sí\" o \"No\",\n",
    "#    ignorando todo lo siguiente.\n",
    "#    - ^(Sí|No)  → busca en el *inicio* la palabra \"Sí\" o \"No\"\n",
    "#    - ([\\s\\S]*) → captura cualquier cosa después (incluye saltos de línea, etc.)\n",
    "#    - Se reemplaza por \\1 (el grupo \"Sí\" o \"No\")\n",
    "noticias['Sentimiento IA'] = noticias['Sentimiento IA'].str.replace(\n",
    "    r'^(Sí|No)([\\s\\S]*)$',\n",
    "    r'\\1',\n",
    "    regex=True\n",
    ")\n",
    "\n",
    "noticias.to_excel(ruta, index=False)"
   ]
  },
  {
   "cell_type": "code",
   "execution_count": null,
   "metadata": {},
   "outputs": [],
   "source": [
    "noticias_no = noticias[noticias['Sentimiento IA'] == 'No']\n",
    "noticias_si = noticias[noticias['Sentimiento IA'] == 'Sí']\n",
    "ruta_si = '/projects/AnalizadorNoticiasPruebaModelos/data/Noticias/Noticias Mario/noticias_si_v5.xlsx'\n",
    "ruta_no = '/projects/AnalizadorNoticiasPruebaModelos/data/Noticias/Noticias Mario/noticias_no_v5.xlsx'\n",
    "noticias_no.to_excel(ruta_no,index=False)\n",
    "noticias_si.to_excel(ruta_si,index=False)"
   ]
  },
  {
   "cell_type": "markdown",
   "metadata": {},
   "source": [
    "# Analisis noticias con sentimientos"
   ]
  },
  {
   "cell_type": "code",
   "execution_count": 3,
   "metadata": {},
   "outputs": [
    {
     "name": "stderr",
     "output_type": "stream",
     "text": [
      "Procesando Análisis Cuantitativo y Cualitativo: 100%|██████████| 54/54 [08:27<00:00,  9.40s/noticia]\n",
      "Procesando Opinión de Agentes: 100%|██████████| 54/54 [07:59<00:00,  8.88s/noticia]\n",
      "Procesando Análisis de Sentimientos: 100%|██████████| 54/54 [07:29<00:00,  8.32s/noticia]\n",
      "Procesando Análisis Sentimientos Cuantitativo: 100%|██████████| 54/54 [04:03<00:00,  4.50s/noticia]\n",
      "Procesando Provincia: 100%|██████████| 54/54 [01:36<00:00,  1.78s/noticia]\n"
     ]
    }
   ],
   "source": [
    "resultados_noticias = 'Resultados Mario/noticias_con_sentimientos'\n",
    "ruta_excel = f'/projects/AnalizadorNoticiasPruebaModelos/{resultados_noticias}/resultadosFinales.xlsx'\n",
    "ruta_docx_completo = f'/projects/AnalizadorNoticiasPruebaModelos/{resultados_noticias}/Analisis_Noticias_Completo.docx'\n",
    "ruta_salida_individuales = f\"/projects/AnalizadorNoticiasPruebaModelos/{resultados_noticias}/Individuales\"\n",
    "ruta_imagen= f\"/projects/AnalizadorNoticiasPruebaModelos/{resultados_noticias}/Dispersion Imagenes\"\n",
    "ruta_si = '/projects/AnalizadorNoticiasPruebaModelos/data/Noticias/Noticias Mario/noticias_si_v5.xlsx'\n",
    "noticias = pd.read_excel(ruta_si)\n",
    "\n",
    "with open(\"/projects/AnalizadorNoticiasPruebaModelos/data/prompt.yaml\", \"r\", encoding=\"utf-8\") as f:\n",
    "    prompts_data = yaml.safe_load(f)\n",
    "####################################################################################\n",
    "## 1. Analisis de las noticias\n",
    "####################################################################################\n",
    "\n",
    "noticias = codeNews.analisis_pregunta(noticias, prompts_data[\"prompt_1\"], columna = \"Análisis Cuantitativo y Cualitativo\")\n",
    "noticias = codeNews.analisis_pregunta(noticias, prompts_data[\"prompt_2\"], columna = \"Opinión de Agentes\")\n",
    "noticias_agentes = codeNews.concatenar_salida(noticias.copy())\n",
    "noticias[\"Análisis de Sentimientos\"] = codeNews.analisis_pregunta(noticias_agentes, prompts_data[\"prompt_3\"], columna=\"Análisis de Sentimientos\")[\"Análisis de Sentimientos\"]\n",
    "noticias[\"Análisis Sentimientos Cuantitativo\"] = codeNews.analisis_pregunta(noticias_agentes, prompts_data[\"prompt_4\"], columna=\"Análisis Sentimientos Cuantitativo\")[\"Análisis Sentimientos Cuantitativo\"]\n",
    "noticias = codeNews.analisis_pregunta(noticias, prompts_data[\"prompt_5\"], columna = \"Provincia\")\n",
    "####################################################################################\n",
    "## Creacion archivo xlsx\n",
    "####################################################################################\n",
    "\n",
    "noticias.to_excel(ruta_excel, index=False)"
   ]
  },
  {
   "cell_type": "markdown",
   "metadata": {},
   "source": [
    "# Analisis noticias sin sentimientos"
   ]
  },
  {
   "cell_type": "code",
   "execution_count": null,
   "metadata": {},
   "outputs": [
    {
     "name": "stderr",
     "output_type": "stream",
     "text": [
      "Procesando Análisis Cuantitativo y Cualitativo: 100%|██████████| 30/30 [04:54<00:00,  9.81s/noticia]\n"
     ]
    },
    {
     "ename": "NameError",
     "evalue": "name 'resultados_noticias' is not defined",
     "output_type": "error",
     "traceback": [
      "\u001b[0;31m---------------------------------------------------------------------------\u001b[0m",
      "\u001b[0;31mNameError\u001b[0m                                 Traceback (most recent call last)",
      "Cell \u001b[0;32mIn[4], line 6\u001b[0m\n\u001b[1;32m      4\u001b[0m noticias \u001b[38;5;241m=\u001b[39m pd\u001b[38;5;241m.\u001b[39mread_excel(ruta_no)\n\u001b[1;32m      5\u001b[0m noticias \u001b[38;5;241m=\u001b[39m codeNews\u001b[38;5;241m.\u001b[39manalisis_pregunta(noticias, prompts_data[\u001b[38;5;124m\"\u001b[39m\u001b[38;5;124mprompt_1\u001b[39m\u001b[38;5;124m\"\u001b[39m], columna \u001b[38;5;241m=\u001b[39m \u001b[38;5;124m\"\u001b[39m\u001b[38;5;124mAnálisis Cuantitativo y Cualitativo\u001b[39m\u001b[38;5;124m\"\u001b[39m)\n\u001b[0;32m----> 6\u001b[0m ruta_excel \u001b[38;5;241m=\u001b[39m \u001b[38;5;124mf\u001b[39m\u001b[38;5;124m'\u001b[39m\u001b[38;5;124m/projects/AnalizadorNoticiasPruebaModelos/\u001b[39m\u001b[38;5;132;01m{\u001b[39;00m\u001b[43mresultados_noticias\u001b[49m\u001b[38;5;132;01m}\u001b[39;00m\u001b[38;5;124m/resultadosFinales_no.xlsx\u001b[39m\u001b[38;5;124m'\u001b[39m\n\u001b[1;32m      7\u001b[0m noticias\u001b[38;5;241m.\u001b[39mto_excel(ruta_excel, index\u001b[38;5;241m=\u001b[39m\u001b[38;5;28;01mFalse\u001b[39;00m)\n",
      "\u001b[0;31mNameError\u001b[0m: name 'resultados_noticias' is not defined"
     ]
    }
   ],
   "source": [
    "with open(\"/projects/AnalizadorNoticiasPruebaModelos/data/prompt.yaml\", \"r\", encoding=\"utf-8\") as f:\n",
    "    prompts_data = yaml.safe_load(f)\n",
    "ruta_no = '/projects/AnalizadorNoticiasPruebaModelos/data/Noticias/Noticias Mario/noticias_no_v5.xlsx'\n",
    "noticias = pd.read_excel(ruta_no)\n",
    "noticias = codeNews.analisis_pregunta(noticias, prompts_data[\"prompt_1\"], columna = \"Análisis Cuantitativo y Cualitativo\")\n",
    "noticias = codeNews.analisis_pregunta(noticias, prompts_data[\"prompt_5\"], columna = \"Provincia\")\n",
    "resultados_noticias = 'Resultados Mario/noticias_sin_sentimientos'\n",
    "ruta_excel = f'/projects/AnalizadorNoticiasPruebaModelos/{resultados_noticias}/resultadosFinales_no.xlsx'\n",
    "noticias.to_excel(ruta_excel, index=False)"
   ]
  },
  {
   "cell_type": "markdown",
   "metadata": {},
   "source": [
    "# Reprocesamiento analisis noticias"
   ]
  },
  {
   "cell_type": "code",
   "execution_count": null,
   "metadata": {},
   "outputs": [],
   "source": [
    "# -------------------------------\n",
    "# 1. Cargar el Excel y los prompts\n",
    "# -------------------------------\n",
    "noticias = pd.read_excel(ruta_excel)\n",
    "\n",
    "with open(\"/projects/AnalizadorNoticiasPruebaModelos/data/prompt.yaml\", \"r\", encoding=\"utf-8\") as f:\n",
    "    prompts_data = yaml.safe_load(f)\n",
    "\n",
    "# -------------------------------\n",
    "# 2. Identificar las filas con respuestas inválidas\n",
    "# -------------------------------\n",
    "# Definimos el patrón para detectar respuestas que comienzan con \"Lo siento...\" o \"I'm sorry...\"\n",
    "pattern = re.compile(r\"^(?:lo\\s+siento|i['’]?m\\s+sorry).*|.*plaintext.*|.*\\*\\*.*\", re.IGNORECASE)\n",
    "# Definir las columnas de análisis a revisar\n",
    "columnas_interes = [\n",
    "    \"Análisis Cuantitativo y Cualitativo\", \n",
    "    \"Opinión de Agentes\", \n",
    "    \"Análisis de Sentimientos\", \n",
    "    \"Análisis Sentimientos Cuantitativo\", \n",
    "    \"Provincia\"\n",
    "]\n",
    "\n",
    "indices_invalidos = []\n",
    "for idx, row in noticias.iterrows():\n",
    "    for col in columnas_interes:\n",
    "        if re.match(pattern, str(row.get(col, \"\"))):\n",
    "            indices_invalidos.append(idx)\n",
    "            break  # Una vez que se encuentra una columna inválida, se marca la fila y se pasa a la siguiente\n",
    "\n",
    "print(f\"Se han encontrado {len(indices_invalidos)} filas con resultados inválidos.\")\n",
    "\n",
    "# -------------------------------\n",
    "# 3. Reprocesar únicamente las filas seleccionadas\n",
    "# -------------------------------\n",
    "if indices_invalidos:\n",
    "    # Extraemos las filas inválidas en un DataFrame aparte\n",
    "    noticias_invalidas = noticias.loc[indices_invalidos].copy()\n",
    "    \n",
    "    # Procesamos cada una de las preguntas\n",
    "    # a) Análisis Cuantitativo y Cualitativo\n",
    "    noticias_invalidas = codeNews.analisis_pregunta(\n",
    "        noticias_invalidas, \n",
    "        prompts_data[\"prompt_1\"], \n",
    "        columna=\"Análisis Cuantitativo y Cualitativo\"\n",
    "    )\n",
    "    \n",
    "    # b) Opinión de Agentes\n",
    "    noticias_invalidas = codeNews.analisis_pregunta(\n",
    "        noticias_invalidas, \n",
    "        prompts_data[\"prompt_2\"], \n",
    "        columna=\"Opinión de Agentes\"\n",
    "    )\n",
    "    \n",
    "    # c) Para análisis de sentimientos se utiliza la versión concatenada (Contenido + Opinión de Agentes)\n",
    "    noticias_invalidas_agentes = codeNews.concatenar_salida(noticias_invalidas.copy())\n",
    "    \n",
    "    # d) Análisis de Sentimientos\n",
    "    resultado_sentimientos = codeNews.analisis_pregunta(\n",
    "        noticias_invalidas_agentes, \n",
    "        prompts_data[\"prompt_3\"], \n",
    "        columna=\"Análisis de Sentimientos\"\n",
    "    )\n",
    "    noticias_invalidas[\"Análisis de Sentimientos\"] = resultado_sentimientos[\"Análisis de Sentimientos\"]\n",
    "    \n",
    "    # e) Análisis Sentimientos Cuantitativo\n",
    "    resultado_sentimientos_cuanti = codeNews.analisis_pregunta(\n",
    "        noticias_invalidas_agentes, \n",
    "        prompts_data[\"prompt_4\"], \n",
    "        columna=\"Análisis Sentimientos Cuantitativo\"\n",
    "    )\n",
    "    noticias_invalidas[\"Análisis Sentimientos Cuantitativo\"] = resultado_sentimientos_cuanti[\"Análisis Sentimientos Cuantitativo\"]\n",
    "    \n",
    "    # f) Provincia\n",
    "    noticias_invalidas = codeNews.analisis_pregunta(\n",
    "        noticias_invalidas, \n",
    "        prompts_data[\"prompt_5\"],\n",
    "        columna=\"Provincia\"\n",
    "    )\n",
    "    \n",
    "    # -------------------------------\n",
    "    # 4. Actualizar el DataFrame original con las filas reprocesadas\n",
    "    # -------------------------------\n",
    "    for idx in indices_invalidos:\n",
    "        noticias.loc[idx] = noticias_invalidas.loc[idx]\n",
    "    \n",
    "    # Guardamos el DataFrame actualizado en el mismo Excel\n",
    "    noticias.to_excel(ruta_excel, index=False)\n",
    "    print(\"Reproceso completado. Se han actualizado las filas reprocesadas en el Excel.\")\n",
    "else:\n",
    "    print(\"No se detectaron filas inválidas para reprocesar.\")\n"
   ]
  },
  {
   "cell_type": "markdown",
   "metadata": {},
   "source": [
    "# Creacion archivo docx general - noticias con sentimiento"
   ]
  },
  {
   "cell_type": "code",
   "execution_count": 2,
   "metadata": {},
   "outputs": [
    {
     "name": "stderr",
     "output_type": "stream",
     "text": [
      "/projects/AnalizadorNoticiasPruebaModelos/env/lib/python3.12/site-packages/docx/styles/styles.py:130: UserWarning: style lookup by style_id is deprecated. Use style name as key instead.\n",
      "  return self._get_style_id_from_style(self[style_name], style_type)\n"
     ]
    }
   ],
   "source": [
    "####################################################################################\n",
    "## 3. Creacion archivo docx completo\n",
    "####################################################################################\n",
    "ruta = '/projects/AnalizadorNoticiasPruebaModelos/Resultados Mario/noticias_con_sentimientos/resultadosFinales_si.xlsx'\n",
    "noticias = pd.read_excel(ruta)\n",
    "ruta_imagen = '/projects/AnalizadorNoticiasPruebaModelos/Resultados Mario/noticias_con_sentimientos/Dispersion Imagenes'\n",
    "doc = codeNews.crear_docx_completo(noticias, ruta_imagen)\n",
    "ruta_docx_completo = '/projects/AnalizadorNoticiasPruebaModelos/Resultados Mario/noticias_con_sentimientos/Analisis_Noticias_Completo_SI.docx'\n",
    "doc.save(ruta_docx_completo)\n"
   ]
  },
  {
   "cell_type": "markdown",
   "metadata": {},
   "source": [
    "# Creacion archivo docx general - noticias sin sentimiento"
   ]
  },
  {
   "cell_type": "code",
   "execution_count": 3,
   "metadata": {},
   "outputs": [
    {
     "name": "stderr",
     "output_type": "stream",
     "text": [
      "/projects/AnalizadorNoticiasPruebaModelos/env/lib/python3.12/site-packages/docx/styles/styles.py:130: UserWarning: style lookup by style_id is deprecated. Use style name as key instead.\n",
      "  return self._get_style_id_from_style(self[style_name], style_type)\n"
     ]
    }
   ],
   "source": [
    "####################################################################################\n",
    "## 3. Creacion archivo docx completo noticias no\n",
    "####################################################################################\n",
    "ruta = '/projects/AnalizadorNoticiasPruebaModelos/Resultados Mario/noticias_sin_sentimientos/resultadosFinales_no.xlsx'\n",
    "ruta_docx_completo = '/projects/AnalizadorNoticiasPruebaModelos/Resultados Mario/noticias_sin_sentimientos/Analisis_Noticias_Completo_NO.docx'\n",
    "noticias = pd.read_excel(ruta)\n",
    "doc = codeNews.crear_docx_analisis_1(noticias)\n",
    "doc.save(ruta_docx_completo)"
   ]
  },
  {
   "cell_type": "markdown",
   "metadata": {},
   "source": [
    "# Creacion archivos docx individual - noticias con sentimiento"
   ]
  },
  {
   "cell_type": "code",
   "execution_count": 2,
   "metadata": {},
   "outputs": [],
   "source": [
    "####################################################################################\n",
    "## 4. Creacion archivo docx individual\n",
    "####################################################################################\n",
    "ruta='/projects/AnalizadorNoticiasPruebaModelos/Resultados Mario/noticias_con_sentimientos/resultadosFinales_si.xlsx'\n",
    "ruta_salida_individuales = '/projects/AnalizadorNoticiasPruebaModelos/Resultados Mario/noticias_con_sentimientos/Individual/'\n",
    "noticias = pd.read_excel(ruta)\n",
    "codeNews.crear_docx_individual(noticias, ruta_salida_individuales)"
   ]
  },
  {
   "cell_type": "markdown",
   "metadata": {},
   "source": [
    "# Creacion archivos docx individual - noticias sin sentimiento"
   ]
  },
  {
   "cell_type": "code",
   "execution_count": 3,
   "metadata": {},
   "outputs": [],
   "source": [
    "####################################################################################\n",
    "## 4. Creacion archivo docx individual sin sentimiento(no)\n",
    "####################################################################################\n",
    "ruta='/projects/AnalizadorNoticiasPruebaModelos/Resultados Mario/noticias_sin_sentimientos/resultadosFinales_no.xlsx'\n",
    "ruta_salida_individuales = '/projects/AnalizadorNoticiasPruebaModelos/Resultados Mario/noticias_sin_sentimientos/Individual/'\n",
    "noticias = pd.read_excel(ruta)\n",
    "codeNews.crear_docx_individual_analisis_1(noticias, ruta_salida_individuales)"
   ]
  }
 ],
 "metadata": {
  "kernelspec": {
   "display_name": "env",
   "language": "python",
   "name": "python3"
  },
  "language_info": {
   "codemirror_mode": {
    "name": "ipython",
    "version": 3
   },
   "file_extension": ".py",
   "mimetype": "text/x-python",
   "name": "python",
   "nbconvert_exporter": "python",
   "pygments_lexer": "ipython3",
   "version": "3.12.3"
  }
 },
 "nbformat": 4,
 "nbformat_minor": 2
}
